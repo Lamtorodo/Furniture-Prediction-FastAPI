{
 "cells": [
  {
   "cell_type": "markdown",
   "id": "23e58c36",
   "metadata": {},
   "source": [
    "# Introduction"
   ]
  },
  {
   "cell_type": "markdown",
   "id": "de6d7d96",
   "metadata": {},
   "source": [
    "Dans ce TP on se chargera de manipuler FastApi en utilisant un modèle de prediction des prix d'un meuble en fonction de certaines caractéristiques"
   ]
  },
  {
   "cell_type": "markdown",
   "id": "71036ed5",
   "metadata": {},
   "source": [
    "# Processus"
   ]
  },
  {
   "cell_type": "markdown",
   "id": "d4121d43",
   "metadata": {},
   "source": [
    "Dans cette partie on montre notre procédé pour obtenir notre résultat final"
   ]
  },
  {
   "cell_type": "markdown",
   "id": "ad6e8ac6",
   "metadata": {},
   "source": [
    "On importe dans un premier temps nos différents libraires"
   ]
  },
  {
   "cell_type": "code",
   "execution_count": 1,
   "id": "4da627c3",
   "metadata": {},
   "outputs": [],
   "source": [
    "from fastapi import FastAPI , Request, Form, Depends\n",
    "from fastapi.templating import Jinja2Templates\n",
    "from fastapi.staticfiles import StaticFiles\n",
    "from fastapi.responses import HTMLResponse\n",
    "import uvicorn\n",
    "from schemas import Furniture\n",
    "import pickle\n",
    "import numpy as np \n"
   ]
  },
  {
   "cell_type": "markdown",
   "id": "84e79d7a",
   "metadata": {},
   "source": [
    "Ensuite on crée une nouvelle application FastApi"
   ]
  },
  {
   "cell_type": "code",
   "execution_count": 2,
   "id": "63a597e6",
   "metadata": {},
   "outputs": [],
   "source": [
    "app = FastAPI()"
   ]
  },
  {
   "cell_type": "markdown",
   "id": "1263cbbd",
   "metadata": {},
   "source": [
    "On precise à notre moteur de template où se trouve nos dossiers où sont stockés nos fichiers html et on en fait de même pour nos fichiers statiques à travers la fonction StaticFiles de FastApi"
   ]
  },
  {
   "cell_type": "code",
   "execution_count": 3,
   "id": "273a6aab",
   "metadata": {},
   "outputs": [],
   "source": [
    "templates = Jinja2Templates(directory=\"templates\")\n",
    "app.mount(\"/static\", StaticFiles(directory=\"static\"), name=\"static\")"
   ]
  },
  {
   "cell_type": "markdown",
   "id": "9b12f6a8",
   "metadata": {},
   "source": [
    "On charge notre modèle "
   ]
  },
  {
   "cell_type": "code",
   "execution_count": 4,
   "id": "7e631265",
   "metadata": {},
   "outputs": [
    {
     "name": "stderr",
     "output_type": "stream",
     "text": [
      "/home/lamtoro/anaconda3/lib/python3.8/site-packages/sklearn/base.py:310: UserWarning: Trying to unpickle estimator DecisionTreeRegressor from version 0.24.0 when using version 0.24.1. This might lead to breaking code or invalid results. Use at your own risk.\n",
      "  warnings.warn(\n"
     ]
    }
   ],
   "source": [
    "model = pickle.load(open('model.pkl','rb'))"
   ]
  },
  {
   "cell_type": "markdown",
   "id": "99456f97",
   "metadata": {},
   "source": [
    "On definit ensuite une route avec une méthode GET qui se chargera de retourner notre page index.html"
   ]
  },
  {
   "cell_type": "code",
   "execution_count": 5,
   "id": "493b0c84",
   "metadata": {},
   "outputs": [],
   "source": [
    "@app.get(\"/\", response_class=HTMLResponse)\n",
    "async def read_item(request: Request):\n",
    "    return templates.TemplateResponse(\"index.html\", {\"request\": request})"
   ]
  },
  {
   "cell_type": "markdown",
   "id": "1bb4adbb",
   "metadata": {},
   "source": [
    "On définit aussi une route avec une methode POST qui va envoyer à notre serveur les données du formulaire qui contiendront les valeurs de nos caracteristiques"
   ]
  },
  {
   "cell_type": "code",
   "execution_count": 6,
   "id": "16d70a1f",
   "metadata": {},
   "outputs": [],
   "source": [
    "@app.post('/predict')\n",
    "async def predict(request: Request,form_data: Furniture = Depends(Furniture.as_form)):\n",
    "\n",
    "    '''\n",
    "    pour l'affichage sur html\n",
    "    '''\n",
    "    prediction =model.predict(\n",
    "\t\t\t\t[\n",
    "\t\t\t\t[\n",
    "\t\t\t\tform_data.category,\n",
    "\t\t\t\tform_data.sellable_online,\n",
    "\t\t\t\tform_data.other_colors,\n",
    "\t\t\t\tform_data.depth,\n",
    "                form_data.height,\n",
    "                form_data.width,\n",
    "\n",
    "\t\t\t\t]])\n",
    "    prediction_text='Furniture prediction price is : $ {}'.format(prediction)\n",
    "    return templates.TemplateResponse(\"index.html\", {\"request\": request,\"prediction_text\":prediction_text })"
   ]
  },
  {
   "cell_type": "markdown",
   "id": "20d9c239",
   "metadata": {},
   "source": [
    "Pour faire ce travail on a crée un fichier schemas.py qui contient une classe de type Furniture avec nos differents caractéristiques.\n",
    "\n",
    "Ensuite le formulaire qui sera passé à notre serveur sera transformé en type Furniture et on passera ensuite nos données à notre model pour faire la prédiction . \n",
    "\n",
    "Une fois ceci fini on renvoie une page HTML contenant notre prédiction sur le prix"
   ]
  },
  {
   "cell_type": "markdown",
   "id": "ce6d3a0b",
   "metadata": {},
   "source": [
    "Tout ce qui suffira par la suite c'est de lancer la commande app.py pour lancer notre application"
   ]
  },
  {
   "cell_type": "markdown",
   "id": "edfd497c",
   "metadata": {},
   "source": [
    "Ci-dessous notre fichier schemas.py"
   ]
  },
  {
   "cell_type": "markdown",
   "id": "b7d01b39",
   "metadata": {},
   "source": [
    "![Schemas](images/schemas.png)"
   ]
  },
  {
   "cell_type": "markdown",
   "id": "cba3341d",
   "metadata": {},
   "source": [
    "# Resultat"
   ]
  },
  {
   "cell_type": "markdown",
   "id": "a62887f2",
   "metadata": {},
   "source": [
    "Dans cette partie on se contentera d'afficher les resultats obtenus "
   ]
  },
  {
   "cell_type": "markdown",
   "id": "d950e5db",
   "metadata": {},
   "source": [
    "on lance d'abord notre application"
   ]
  },
  {
   "cell_type": "code",
   "execution_count": null,
   "id": "44aab67b",
   "metadata": {},
   "outputs": [
    {
     "name": "stderr",
     "output_type": "stream",
     "text": [
      "INFO:     Will watch for changes in these directories: ['/home/lamtoro/Bureau/MLOPS/FastAPI/Furniture Prediction FastAPI']\n",
      "INFO:     Uvicorn running on http://0.0.0.0:8080 (Press CTRL+C to quit)\n",
      "INFO:     Started reloader process [40475] using statreload\n"
     ]
    }
   ],
   "source": [
    "if __name__ == '__main__':\n",
    "\t\tuvicorn.run(\"app:app\",\n",
    "\t\t host=\"0.0.0.0\",\n",
    "\t\t port =8080 ,\n",
    "\t\t reload = True)\t"
   ]
  },
  {
   "cell_type": "markdown",
   "id": "4f058374",
   "metadata": {},
   "source": [
    "Une fois cette étape reussie on ouvre notre navigateur à l'adresse precisée ici à savoir http://0.0.0.0:8080"
   ]
  },
  {
   "cell_type": "markdown",
   "id": "b2c4a934",
   "metadata": {},
   "source": [
    "![Lancement Application 2](images/accueil.png)"
   ]
  },
  {
   "cell_type": "markdown",
   "id": "0dec7350",
   "metadata": {},
   "source": [
    "On remplit notre formulaire et on obtient le resultat de notre prédiction"
   ]
  },
  {
   "cell_type": "markdown",
   "id": "a01f02a9",
   "metadata": {},
   "source": [
    "![Lancement Application](images/resultat.png)"
   ]
  },
  {
   "cell_type": "markdown",
   "id": "845361c0",
   "metadata": {},
   "source": [
    "# Conclusion"
   ]
  },
  {
   "cell_type": "markdown",
   "id": "028d5850",
   "metadata": {},
   "source": [
    "Ce TP fut une bonne expérience car il nous a permis de prendre en main FastApi avec son moteur de template Jinja2 pour permettre de consommer notre modele de ML sur le Web. "
   ]
  }
 ],
 "metadata": {
  "kernelspec": {
   "display_name": "Python 3",
   "language": "python",
   "name": "python3"
  },
  "language_info": {
   "codemirror_mode": {
    "name": "ipython",
    "version": 3
   },
   "file_extension": ".py",
   "mimetype": "text/x-python",
   "name": "python",
   "nbconvert_exporter": "python",
   "pygments_lexer": "ipython3",
   "version": "3.8.8"
  }
 },
 "nbformat": 4,
 "nbformat_minor": 5
}
