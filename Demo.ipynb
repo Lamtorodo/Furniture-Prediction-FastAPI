{
 "cells": [
<<<<<<< HEAD
=======
  
>>>>>>> dffe6f6ceaee3b447ecbe86325395503a0b267aa
  {
   "cell_type": "markdown",
   "id": "71036ed5",
   "metadata": {},
   "source": [
    "# Process"
   ]
  },
  {
   "cell_type": "markdown",
   "id": "d4121d43",
   "metadata": {},
   "source": [
    "Here we explain how we proceed to obtain our final result"
   ]
  },
  {
   "cell_type": "markdown",
   "id": "ad6e8ac6",
   "metadata": {},
   "source": [
<<<<<<< HEAD
    "We first import our librairies"
=======
    "We first import our different librairies"
>>>>>>> dffe6f6ceaee3b447ecbe86325395503a0b267aa
   ]
  },
  {
   "cell_type": "code",
   "execution_count": 1,
   "id": "4da627c3",
   "metadata": {},
   "outputs": [],
   "source": [
    "from fastapi import FastAPI , Request, Form, Depends\n",
    "from fastapi.templating import Jinja2Templates\n",
    "from fastapi.staticfiles import StaticFiles\n",
    "from fastapi.responses import HTMLResponse\n",
    "import uvicorn\n",
    "from schemas import Furniture\n",
    "import pickle\n",
    "import numpy as np \n"
   ]
  },
  {
   "cell_type": "markdown",
   "id": "84e79d7a",
   "metadata": {},
   "source": [
    "Then we create a new FastAPI app"
   ]
  },
  {
   "cell_type": "code",
   "execution_count": 2,
   "id": "63a597e6",
   "metadata": {},
   "outputs": [],
   "source": [
    "app = FastAPI()"
   ]
  },
  {
   "cell_type": "markdown",
   "id": "1263cbbd",
   "metadata": {},
   "source": [
    "We specify to our template engine where our folders,our html files are stored and we do the same for our static files through the StaticFiles function of FastApi"
   ]
  },
  {
   "cell_type": "code",
   "execution_count": 3,
   "id": "273a6aab",
   "metadata": {},
   "outputs": [],
   "source": [
    "templates = Jinja2Templates(directory=\"templates\")\n",
    "app.mount(\"/static\", StaticFiles(directory=\"static\"), name=\"static\")"
   ]
  },
  {
   "cell_type": "markdown",
   "id": "9b12f6a8",
   "metadata": {},
   "source": [
<<<<<<< HEAD
    "We load our pickle model"
=======
    "We load our model "
>>>>>>> dffe6f6ceaee3b447ecbe86325395503a0b267aa
   ]
  },
  {
   "cell_type": "code",
   "execution_count": 4,
   "id": "7e631265",
   "metadata": {},
   "outputs": [
    {
     "name": "stderr",
     "output_type": "stream",
     "text": [
      "/home/lamtoro/anaconda3/lib/python3.8/site-packages/sklearn/base.py:310: UserWarning: Trying to unpickle estimator DecisionTreeRegressor from version 0.24.0 when using version 0.24.1. This might lead to breaking code or invalid results. Use at your own risk.\n",
      "  warnings.warn(\n"
     ]
    }
   ],
   "source": [
    "model = pickle.load(open('model.pkl','rb'))"
   ]
  },
  {
   "cell_type": "markdown",
   "id": "99456f97",
   "metadata": {},
   "source": [
<<<<<<< HEAD
    "We then define a GET method that will return our index.html page"
=======
    "We then define a route with a GET method that will return our index.html page"
>>>>>>> dffe6f6ceaee3b447ecbe86325395503a0b267aa
   ]
  },
  {
   "cell_type": "code",
   "execution_count": 5,
   "id": "493b0c84",
   "metadata": {},
   "outputs": [],
   "source": [
    "@app.get(\"/\", response_class=HTMLResponse)\n",
    "async def read_item(request: Request):\n",
    "    return templates.TemplateResponse(\"index.html\", {\"request\": request})"
   ]
  },
  {
   "cell_type": "markdown",
   "id": "1bb4adbb",
   "metadata": {},
   "source": [
<<<<<<< HEAD
    "We also define a route with a POST method which will send to our server the data of the form which will contain the values of our features"
=======
    "We also define a route with a POST method which will send to our server the data of the form which will contain the values of our characteristics"
>>>>>>> dffe6f6ceaee3b447ecbe86325395503a0b267aa
   ]
  },
  {
   "cell_type": "code",
   "execution_count": 6,
   "id": "16d70a1f",
   "metadata": {},
   "outputs": [],
   "source": [
    "@app.post('/predict')\n",
    "async def predict(request: Request,form_data: Furniture = Depends(Furniture.as_form)):\n",
    "\n",
    "    '''\n",
    "    pour l'affichage sur html\n",
    "    '''\n",
    "    prediction =model.predict(\n",
    "\t\t\t\t[\n",
    "\t\t\t\t[\n",
    "\t\t\t\tform_data.category,\n",
    "\t\t\t\tform_data.sellable_online,\n",
    "\t\t\t\tform_data.other_colors,\n",
    "\t\t\t\tform_data.depth,\n",
    "                form_data.height,\n",
    "                form_data.width,\n",
    "\n",
    "\t\t\t\t]])\n",
    "    prediction_text='Furniture prediction price is : $ {}'.format(prediction)\n",
    "    return templates.TemplateResponse(\"index.html\", {\"request\": request,\"prediction_text\":prediction_text })"
   ]
  },
  {
   "cell_type": "markdown",
   "id": "20d9c239",
   "metadata": {},
   "source": [
    "To do this we created a schemas.py file that contains a Furniture class with our different features.\n",
    "\n",
<<<<<<< HEAD
    "Then the form that will be passed to our server and after that we will give in parameters our data to our model to make the prediction and right after render an HTML page with our prediction.\n",
    "\n",
    "Once we done, all we have to is run our app."
=======
    "Then the form that will be passed to our server and after that we will give in parameters our data to our model to make the prediction . \n",
    "\n",
    "Once this done we return our prediction to our template"
   ]
  },
  {
   "cell_type": "markdown",
   "id": "ce6d3a0b",
   "metadata": {},
   "source": [
    "We run our app right after"
>>>>>>> dffe6f6ceaee3b447ecbe86325395503a0b267aa
   ]
  },
  {
   "cell_type": "markdown",
   "id": "edfd497c",
   "metadata": {},
   "source": [
<<<<<<< HEAD
    "This is how is our schemas.py file"
=======
    "Here you find our file schemas.py"
>>>>>>> dffe6f6ceaee3b447ecbe86325395503a0b267aa
   ]
  },
  {
   "cell_type": "markdown",
   "id": "b7d01b39",
   "metadata": {},
   "source": [
    "![Schemas](images/schemas.png)"
   ]
  },
  {
   "cell_type": "markdown",
   "id": "cba3341d",
   "metadata": {},
   "source": [
    "# Result"
   ]
  },
  {
   "cell_type": "markdown",
   "id": "a62887f2",
   "metadata": {},
   "source": [
    "In this part we will simply display our results "
   ]
  },
  {
   "cell_type": "markdown",
   "id": "d950e5db",
   "metadata": {},
   "source": [
<<<<<<< HEAD
    "Let's run our app at first."
=======
    "We run at first our app"
>>>>>>> dffe6f6ceaee3b447ecbe86325395503a0b267aa
   ]
  },
  {
   "cell_type": "code",
   "execution_count": null,
   "id": "44aab67b",
   "metadata": {},
   "outputs": [
    {
     "name": "stderr",
     "output_type": "stream",
     "text": [
      "INFO:     Will watch for changes in these directories: ['/home/lamtoro/Bureau/MLOPS/FastAPI/Furniture Prediction FastAPI']\n",
      "INFO:     Uvicorn running on http://0.0.0.0:8080 (Press CTRL+C to quit)\n",
      "INFO:     Started reloader process [40475] using statreload\n"
     ]
    }
   ],
   "source": [
    "if __name__ == '__main__':\n",
    "\t\tuvicorn.run(\"main:app\",\n",
    "\t\t host=\"0.0.0.0\",\n",
    "\t\t port =8080 ,\n",
    "\t\t reload = True)\t"
   ]
  },
  {
   "cell_type": "markdown",
   "id": "4f058374",
   "metadata": {},
   "source": [
    "Once this step is done, we open our browser at the address given here: http://0.0.0.0:8080"
   ]
  },
  {
   "cell_type": "markdown",
   "id": "b2c4a934",
   "metadata": {},
   "source": [
    "![Launch Application 1](images/accueil.png)"
   ]
  },
  {
   "cell_type": "markdown",
   "id": "0dec7350",
   "metadata": {},
   "source": [
<<<<<<< HEAD
    "We fill out our form and get the result of our prediction"
=======
    "OWe fill out our form and get the result of our prediction"
>>>>>>> dffe6f6ceaee3b447ecbe86325395503a0b267aa
   ]
  },
  {
   "cell_type": "markdown",
   "id": "a01f02a9",
   "metadata": {},
   "source": [
    "![Launch Application 2](images/resultat.png)"
   ]
<<<<<<< HEAD
  }
=======
  },
>>>>>>> dffe6f6ceaee3b447ecbe86325395503a0b267aa
 ],
 "metadata": {
  "kernelspec": {
   "display_name": "Python 3",
   "language": "python",
   "name": "python3"
  },
  "language_info": {
   "codemirror_mode": {
    "name": "ipython",
    "version": 3
   },
   "file_extension": ".py",
   "mimetype": "text/x-python",
   "name": "python",
   "nbconvert_exporter": "python",
   "pygments_lexer": "ipython3",
   "version": "3.8.8"
  }
 },
 "nbformat": 4,
 "nbformat_minor": 5
}
