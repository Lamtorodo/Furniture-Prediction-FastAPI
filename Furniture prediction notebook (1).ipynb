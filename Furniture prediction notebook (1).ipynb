{
 "cells": [
  {
   "cell_type": "code",
   "execution_count": 1,
   "metadata": {},
   "outputs": [],
   "source": [
    "import pandas as pd\n",
    "from sklearn import preprocessing\n",
    "import numpy as np\n",
    "import pickle\n",
    "from sklearn.model_selection import train_test_split"
   ]
  },
  {
   "cell_type": "code",
   "execution_count": 3,
   "metadata": {},
   "outputs": [],
   "source": [
    "df = pd.read_csv('furniture.csv', names=['item_id','name','category','old_price','sellable_online'\n",
    "                            ,'link','other_colors','short_description','designer','depth'\n",
    "                            ,'height','width','price'],skiprows=1, header=None)\n"
   ]
  },
  {
   "cell_type": "code",
   "execution_count": 4,
   "metadata": {},
   "outputs": [],
   "source": [
    "categs = ['category','sellable_online','other_colors','depth','height','width','price']\n",
    "furniture_data = df[categs]"
   ]
  },
  {
   "cell_type": "code",
   "execution_count": 5,
   "metadata": {},
   "outputs": [
    {
     "data": {
      "text/plain": [
       "category              0\n",
       "sellable_online       0\n",
       "other_colors          0\n",
       "depth              1463\n",
       "height              988\n",
       "width               589\n",
       "price                 0\n",
       "dtype: int64"
      ]
     },
     "execution_count": 5,
     "metadata": {},
     "output_type": "execute_result"
    }
   ],
   "source": [
    "furniture_data.isnull().sum()"
   ]
  },
  {
   "cell_type": "code",
   "execution_count": 6,
   "metadata": {},
   "outputs": [],
   "source": [
    "col_names = furniture_data.columns\n",
    "for c in col_names:\n",
    "    furniture_data = furniture_data.replace(\"?\", np.NaN)\n",
    "furniture_data = furniture_data.apply(lambda x:x.fillna(x.value_counts().index[0]))"
   ]
  },
  {
   "cell_type": "code",
   "execution_count": 7,
   "metadata": {},
   "outputs": [
    {
     "data": {
      "text/plain": [
       "category           0\n",
       "sellable_online    0\n",
       "other_colors       0\n",
       "depth              0\n",
       "height             0\n",
       "width              0\n",
       "price              0\n",
       "dtype: int64"
      ]
     },
     "execution_count": 7,
     "metadata": {},
     "output_type": "execute_result"
    }
   ],
   "source": [
    "furniture_data.isnull().sum()"
   ]
  },
  {
   "cell_type": "code",
   "execution_count": 20,
   "metadata": {},
   "outputs": [
    {
     "data": {
      "text/plain": [
       "pandas.core.series.Series"
      ]
     },
     "execution_count": 20,
     "metadata": {},
     "output_type": "execute_result"
    }
   ],
   "source": []
  },
  {
   "cell_type": "code",
   "execution_count": 8,
   "metadata": {},
   "outputs": [],
   "source": [
    "cat_col=['category','sellable_online','other_colors']\n",
    "labelEncoder = preprocessing.LabelEncoder()\n",
    "mapping_dict ={}"
   ]
  },
  {
   "cell_type": "code",
   "execution_count": 9,
   "metadata": {},
   "outputs": [
    {
     "name": "stdout",
     "output_type": "stream",
     "text": [
      "{'category': {'Bar furniture': 0, 'Beds': 1, 'Bookcases & shelving units': 2, 'Cabinets & cupboards': 3, 'Café furniture': 4, 'Chairs': 5, 'Chests of drawers & drawer units': 6, \"Children's furniture\": 7, 'Nursery furniture': 8, 'Outdoor furniture': 9, 'Room dividers': 10, 'Sideboards, buffets & console tables': 11, 'Sofas & armchairs': 12, 'TV & media furniture': 13, 'Tables & desks': 14, 'Trolleys': 15, 'Wardrobes': 16}, 'sellable_online': {False: 0, True: 1}, 'other_colors': {'No': 0, 'Yes': 1}} \n",
      "\n"
     ]
    }
   ],
   "source": [
    "for col in cat_col:\n",
    "    furniture_data[col] = labelEncoder.fit_transform(furniture_data[col])\n",
    "    le_name_mapping = dict(zip(labelEncoder.classes_,labelEncoder.transform(labelEncoder.classes_)))\n",
    "    mapping_dict[col]= le_name_mapping\n",
    "print(mapping_dict, \"\\n\" )"
   ]
  },
  {
   "cell_type": "code",
   "execution_count": 10,
   "metadata": {},
   "outputs": [],
   "source": [
    "X = furniture_data.drop('price', axis=1)  # features\n",
    "y = furniture_data['price'] # labels "
   ]
  },
  {
   "cell_type": "code",
   "execution_count": 11,
   "metadata": {},
   "outputs": [],
   "source": [
    "X_train, X_test, y_train, y_test = train_test_split(X, y, test_size = 0.3, random_state=42)"
   ]
  },
  {
   "cell_type": "code",
   "execution_count": 12,
   "metadata": {},
   "outputs": [
    {
     "name": "stdout",
     "output_type": "stream",
     "text": [
      "LRregressor / Train score is : 0.5117190896148673\n",
      "LRregressor / Test score is : 0.44411655347826273\n",
      "Prediction of Linear Regression: [1667.39822709 2301.90735864  546.06119476 ...  763.45692838  831.94283947\n",
      "  371.45651531]\n"
     ]
    }
   ],
   "source": [
    "# #### Linear Regression\n",
    "\n",
    "from sklearn.linear_model import LinearRegression\n",
    "\n",
    "LRregressor = LinearRegression()\n",
    "LRregressor.fit(X_train,y_train)\n",
    "\n",
    "# Calculate the training and test score\n",
    "print(\"LRregressor / Train score is :\", LRregressor.score(X_train,y_train))\n",
    "print(\"LRregressor / Test score is :\", LRregressor.score(X_test,y_test))\n",
    "\n",
    "# Calculate the prediction of the model\n",
    "ypred_LR = LRregressor.predict(X_test)\n",
    "print(\"Prediction of Linear Regression:\", ypred_LR)"
   ]
  },
  {
   "cell_type": "code",
   "execution_count": 13,
   "metadata": {},
   "outputs": [
    {
     "name": "stdout",
     "output_type": "stream",
     "text": [
      "Decision Tree Regressor / Train score is : 0.8681156843708964\n",
      "Decision Tree Regressor / Test score is : 0.6272993227536424\n",
      "Prediction of Decision Tree: [1155.7125     2874.125       338.9        ... 1522.49206349  665.\n",
      "   53.07027027]\n"
     ]
    }
   ],
   "source": [
    "# #### Decision Tree Regressor\n",
    "\n",
    "from sklearn.tree import DecisionTreeRegressor\n",
    "\n",
    "DTregressor = DecisionTreeRegressor(max_depth=10, random_state=1)\n",
    "DTregressor.fit(X_train,y_train)\n",
    "\n",
    "# Calculate the training and test score\n",
    "print(\"Decision Tree Regressor / Train score is :\", DTregressor.score(X_train,y_train))\n",
    "print(\"Decision Tree Regressor / Test score is :\", DTregressor.score(X_test,y_test))\n",
    "\n",
    "\n",
    "# Calculate the prediction of the model\n",
    "ypred_DTr = DTregressor.predict(X_test)\n",
    "print(\"Prediction of Decision Tree:\", ypred_DTr)"
   ]
  },
  {
   "cell_type": "code",
   "execution_count": 14,
   "metadata": {},
   "outputs": [
    {
     "name": "stdout",
     "output_type": "stream",
     "text": [
      "Random Forest Regressor / Train score is : 0.5890069382678234\n",
      "Random Forest Regressor / Test score is : 0.4817184118460528\n",
      "Random Forest Regressor / N° of features  are :  6\n",
      "Important features are :  [3.02612097e-02 0.00000000e+00 2.27563922e-04 7.97193786e-02\n",
      " 2.10046518e-02 8.68787196e-01]\n",
      "Prediction of Random Forest : [1354.48782927 2076.0810553   635.71835673 ...  639.84974755  225.92078429\n",
      "  635.71835673]\n"
     ]
    }
   ],
   "source": [
    "# #### Random Forest Regressor\n",
    "\n",
    "from sklearn.ensemble import RandomForestRegressor\n",
    "\n",
    "RFregressor = RandomForestRegressor(n_estimators=100, max_depth=3, random_state=1)\n",
    "RFregressor.fit(X_train,y_train)\n",
    "\n",
    "# Calculate the training and test score\n",
    "print(\"Random Forest Regressor / Train score is :\", RFregressor.score(X_train,y_train))\n",
    "print(\"Random Forest Regressor / Test score is :\", RFregressor.score(X_test,y_test))\n",
    "print(\"Random Forest Regressor / N° of features  are : \", RFregressor.n_features_)\n",
    "print(\"Important features are : \" , RFregressor.feature_importances_)\n",
    "\n",
    "\n",
    "# Calculate the prediction of the model\n",
    "ypred_RFr = RFregressor.predict(X_test)\n",
    "print(\"Prediction of Random Forest :\", ypred_RFr)"
   ]
  },
  {
   "cell_type": "code",
   "execution_count": 15,
   "metadata": {},
   "outputs": [
    {
     "name": "stdout",
     "output_type": "stream",
     "text": [
      "SVM regressor / Train score is : 0.4639902599583918\n",
      "SVM regressor / Test score is : 0.3973281417306833\n"
     ]
    }
   ],
   "source": [
    "from sklearn.svm import SVR\n",
    "\n",
    "SVMregressor = SVR(kernel='linear')\n",
    "SVMregressor.fit(X_train, y_train)\n",
    "\n",
    "# Calculate the training and test score\n",
    "print(\"SVM regressor / Train score is :\", SVMregressor.score(X_train,y_train))\n",
    "print(\"SVM regressor / Test score is :\", SVMregressor.score(X_test,y_test))"
   ]
  },
  {
   "cell_type": "code",
   "execution_count": 16,
   "metadata": {},
   "outputs": [
    {
     "name": "stdout",
     "output_type": "stream",
     "text": [
      "Prediction of SVM : [1415.87356967 2051.36220977  580.88569529 ...  441.91700973  804.69055207\n",
      "  194.73957799]\n"
     ]
    }
   ],
   "source": [
    "# Calculate the prediction of the model\n",
    "ypred_SVMr = SVMregressor.predict(X_test)\n",
    "print(\"Prediction of SVM :\", ypred_SVMr)"
   ]
  },
  {
   "cell_type": "code",
   "execution_count": 17,
   "metadata": {},
   "outputs": [],
   "source": [
    "### Saving the best model ###\n",
    "\n",
    "# Saving model to disk\n",
    "pickle.dump(DTregressor, open('model.pkl','wb'))"
   ]
  },
  {
   "cell_type": "code",
   "execution_count": 18,
   "metadata": {},
   "outputs": [
    {
     "data": {
      "text/html": [
       "<div>\n",
       "<style scoped>\n",
       "    .dataframe tbody tr th:only-of-type {\n",
       "        vertical-align: middle;\n",
       "    }\n",
       "\n",
       "    .dataframe tbody tr th {\n",
       "        vertical-align: top;\n",
       "    }\n",
       "\n",
       "    .dataframe thead th {\n",
       "        text-align: right;\n",
       "    }\n",
       "</style>\n",
       "<table border=\"1\" class=\"dataframe\">\n",
       "  <thead>\n",
       "    <tr style=\"text-align: right;\">\n",
       "      <th></th>\n",
       "      <th>category</th>\n",
       "      <th>sellable_online</th>\n",
       "      <th>other_colors</th>\n",
       "      <th>depth</th>\n",
       "      <th>height</th>\n",
       "      <th>width</th>\n",
       "    </tr>\n",
       "  </thead>\n",
       "  <tbody>\n",
       "    <tr>\n",
       "      <th>393</th>\n",
       "      <td>2</td>\n",
       "      <td>1</td>\n",
       "      <td>1</td>\n",
       "      <td>42.0</td>\n",
       "      <td>112.0</td>\n",
       "      <td>180.0</td>\n",
       "    </tr>\n",
       "    <tr>\n",
       "      <th>3561</th>\n",
       "      <td>16</td>\n",
       "      <td>1</td>\n",
       "      <td>0</td>\n",
       "      <td>66.0</td>\n",
       "      <td>236.0</td>\n",
       "      <td>150.0</td>\n",
       "    </tr>\n",
       "    <tr>\n",
       "      <th>551</th>\n",
       "      <td>2</td>\n",
       "      <td>1</td>\n",
       "      <td>0</td>\n",
       "      <td>40.0</td>\n",
       "      <td>197.0</td>\n",
       "      <td>66.0</td>\n",
       "    </tr>\n",
       "    <tr>\n",
       "      <th>1295</th>\n",
       "      <td>5</td>\n",
       "      <td>1</td>\n",
       "      <td>0</td>\n",
       "      <td>40.0</td>\n",
       "      <td>74.0</td>\n",
       "      <td>60.0</td>\n",
       "    </tr>\n",
       "    <tr>\n",
       "      <th>818</th>\n",
       "      <td>3</td>\n",
       "      <td>1</td>\n",
       "      <td>0</td>\n",
       "      <td>35.0</td>\n",
       "      <td>35.0</td>\n",
       "      <td>60.0</td>\n",
       "    </tr>\n",
       "    <tr>\n",
       "      <th>...</th>\n",
       "      <td>...</td>\n",
       "      <td>...</td>\n",
       "      <td>...</td>\n",
       "      <td>...</td>\n",
       "      <td>...</td>\n",
       "      <td>...</td>\n",
       "    </tr>\n",
       "    <tr>\n",
       "      <th>1966</th>\n",
       "      <td>9</td>\n",
       "      <td>1</td>\n",
       "      <td>0</td>\n",
       "      <td>94.0</td>\n",
       "      <td>90.0</td>\n",
       "      <td>83.0</td>\n",
       "    </tr>\n",
       "    <tr>\n",
       "      <th>1598</th>\n",
       "      <td>5</td>\n",
       "      <td>1</td>\n",
       "      <td>0</td>\n",
       "      <td>40.0</td>\n",
       "      <td>74.0</td>\n",
       "      <td>60.0</td>\n",
       "    </tr>\n",
       "    <tr>\n",
       "      <th>3232</th>\n",
       "      <td>14</td>\n",
       "      <td>1</td>\n",
       "      <td>0</td>\n",
       "      <td>40.0</td>\n",
       "      <td>74.0</td>\n",
       "      <td>60.0</td>\n",
       "    </tr>\n",
       "    <tr>\n",
       "      <th>3551</th>\n",
       "      <td>16</td>\n",
       "      <td>1</td>\n",
       "      <td>0</td>\n",
       "      <td>38.0</td>\n",
       "      <td>236.0</td>\n",
       "      <td>50.0</td>\n",
       "    </tr>\n",
       "    <tr>\n",
       "      <th>651</th>\n",
       "      <td>2</td>\n",
       "      <td>1</td>\n",
       "      <td>0</td>\n",
       "      <td>40.0</td>\n",
       "      <td>74.0</td>\n",
       "      <td>60.0</td>\n",
       "    </tr>\n",
       "  </tbody>\n",
       "</table>\n",
       "<p>1109 rows × 6 columns</p>\n",
       "</div>"
      ],
      "text/plain": [
       "      category  sellable_online  other_colors  depth  height  width\n",
       "393          2                1             1   42.0   112.0  180.0\n",
       "3561        16                1             0   66.0   236.0  150.0\n",
       "551          2                1             0   40.0   197.0   66.0\n",
       "1295         5                1             0   40.0    74.0   60.0\n",
       "818          3                1             0   35.0    35.0   60.0\n",
       "...        ...              ...           ...    ...     ...    ...\n",
       "1966         9                1             0   94.0    90.0   83.0\n",
       "1598         5                1             0   40.0    74.0   60.0\n",
       "3232        14                1             0   40.0    74.0   60.0\n",
       "3551        16                1             0   38.0   236.0   50.0\n",
       "651          2                1             0   40.0    74.0   60.0\n",
       "\n",
       "[1109 rows x 6 columns]"
      ]
     },
     "execution_count": 18,
     "metadata": {},
     "output_type": "execute_result"
    }
   ],
   "source": [
    "X_test"
   ]
  },
  {
   "cell_type": "code",
   "execution_count": null,
   "metadata": {},
   "outputs": [],
   "source": []
  }
 ],
 "metadata": {
  "kernelspec": {
   "display_name": "Python 3",
   "language": "python",
   "name": "python3"
  },
  "language_info": {
   "codemirror_mode": {
    "name": "ipython",
    "version": 3
   },
   "file_extension": ".py",
   "mimetype": "text/x-python",
   "name": "python",
   "nbconvert_exporter": "python",
   "pygments_lexer": "ipython3",
   "version": "3.8.8"
  }
 },
 "nbformat": 4,
 "nbformat_minor": 2
}
